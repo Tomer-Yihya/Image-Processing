{
 "cells": [
  {
   "cell_type": "code",
   "execution_count": null,
   "metadata": {},
   "outputs": [],
   "source": [
    "import cv2\n",
    "import matplotlib.pyplot as plt\n",
    "import json\n",
    "from algorithem import *\n",
    "\n",
    "\n",
    "if __name__ == \"__main__\":\n",
    "    \n",
    "    image_path = r\"C:/Users/A3DC~1/Desktop/Data Base/pictures/example.jpg\"\n",
    "    \n",
    "    img = cv2.imread(image_path)\n",
    "    plt.imshow(cv2.cvtColor(img, cv2.COLOR_BGR2RGB))\n",
    "\n",
    "    \n",
    "    resized = process_image(image_path)\n",
    "    cv2.imwrite('resized_sticker.jpg', resized)\n",
    "    print(f\"Resized sticker shape: {resized.shape}\")\n",
    "    \n",
    "    detected_barcodes = detect_all_barcodes(resized, display_results=False)\n",
    "    \n",
    "    resized_with_bb = draw_bounding_boxes_on_image(resized, detected_barcodes)\n",
    "    cv2.imwrite('resized_with_bb.jpg', resized_with_bb)\n",
    "\n",
    "    print(\"\\nDetected barcode coordinates:\")\n",
    "    for strip_id, barcode_regions in detected_barcodes.items():\n",
    "        print(f\"\\nStrip {strip_id}:\")\n",
    "        for i, (x, y, w, h) in enumerate(barcode_regions):\n",
    "            print(f\"  Barcode {i+1}: (x={x}, y={y}, width={w}, height={h})\")\n",
    "    print(\"\\n\")\n",
    "\n",
    "    # Process barcodes and extract fields\n",
    "    extracted_fields = process_barcodes_and_extract_fields(resized, detected_barcodes, display=True)\n",
    "    \n",
    "    # Print the extracted fields as JSON\n",
    "    print(json.dumps(extracted_fields, ensure_ascii=False, indent=2))\n",
    "    \n",
    "    # Optionally save to file\n",
    "    save_fields_to_json(extracted_fields, \"extracted_fields.json\")"
   ]
  },
  {
   "cell_type": "code",
   "execution_count": null,
   "metadata": {},
   "outputs": [],
   "source": [
    "import json\n",
    "from algorithem import *\n",
    "\n",
    "\n",
    "if __name__ == \"__main__\":\n",
    "    \n",
    "    # Path to the input image file\n",
    "    image_path = r\"C:/Users/A3DC~1/Desktop/Data Base/pictures/example.jpg\"\n",
    "    image_path = r\"C:/Users/A3DC~1/Desktop/Data Base/pictures/11.jpg\"\n",
    "    \n",
    "    # Step 1: Detect and resize the yellow sticker\n",
    "    resized = process_image(image_path)\n",
    "    \n",
    "    # Step 2: Find all barcodes in the resized image\n",
    "    detected_barcodes = detect_all_barcodes(resized, display_results=False)\n",
    "    \n",
    "    # Step 3: Process barcodes and extract fields\n",
    "    extracted_fields = process_barcodes_and_extract_fields(resized, detected_barcodes, display=False)\n",
    "    \n",
    "    # Print the extracted fields as JSON\n",
    "    print(json.dumps(extracted_fields, ensure_ascii=False, indent=2))\n",
    "    \n",
    "    # Optionally save the results to a file\n",
    "    # save_fields_to_json(extracted_fields, \"extracted_fields.json\")"
   ]
  }
 ],
 "metadata": {
  "kernelspec": {
   "display_name": ".venv",
   "language": "python",
   "name": "python3"
  },
  "language_info": {
   "codemirror_mode": {
    "name": "ipython",
    "version": 3
   },
   "file_extension": ".py",
   "mimetype": "text/x-python",
   "name": "python",
   "nbconvert_exporter": "python",
   "pygments_lexer": "ipython3",
   "version": "3.13.1"
  }
 },
 "nbformat": 4,
 "nbformat_minor": 2
}
