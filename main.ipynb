{
 "cells": [
  {
   "cell_type": "code",
   "execution_count": 1,
   "metadata": {},
   "outputs": [
    {
     "name": "stdout",
     "output_type": "stream",
     "text": [
      "{\n",
      "  \"name\": \"וגונו נאוה\",\n",
      "  \"person_id\": \"\",\n",
      "  \"date\": \"03.24.01\",\n",
      "  \"strip_id\": 2\n",
      "}\n"
     ]
    }
   ],
   "source": [
    "import json\n",
    "from algorithem import *\n",
    "\n",
    "\n",
    "if __name__ == \"__main__\":\n",
    "    \n",
    "    # Path to the input image file\n",
    "    image_path = r\"C:/Users/A3DC~1/Desktop/Data Base/pictures/example.jpg\"\n",
    "    image_path = r\"C:/Users/A3DC~1/Desktop/Data Base/pictures/11.jpg\"\n",
    "    \n",
    "    # Step 1: Detect and resize the yellow sticker\n",
    "    resized = process_image(image_path)\n",
    "    \n",
    "    # Step 2: Find all barcodes in the resized image\n",
    "    detected_barcodes = detect_all_barcodes(resized, display_results=False)\n",
    "    \n",
    "    # Step 3: Process barcodes and extract fields\n",
    "    extracted_fields = process_barcodes_and_extract_fields(resized, detected_barcodes, display=False)\n",
    "    \n",
    "    # Print the extracted fields as JSON\n",
    "    print(json.dumps(extracted_fields, ensure_ascii=False, indent=2))\n",
    "    \n",
    "    # Optionally save the results to a file\n",
    "    # save_fields_to_json(extracted_fields, \"extracted_fields.json\")"
   ]
  }
 ],
 "metadata": {
  "kernelspec": {
   "display_name": ".venv",
   "language": "python",
   "name": "python3"
  },
  "language_info": {
   "codemirror_mode": {
    "name": "ipython",
    "version": 3
   },
   "file_extension": ".py",
   "mimetype": "text/x-python",
   "name": "python",
   "nbconvert_exporter": "python",
   "pygments_lexer": "ipython3",
   "version": "3.13.1"
  }
 },
 "nbformat": 4,
 "nbformat_minor": 2
}
